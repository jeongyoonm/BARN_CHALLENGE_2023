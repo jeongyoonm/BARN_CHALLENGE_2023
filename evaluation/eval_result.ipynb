{
 "cells": [
  {
   "cell_type": "code",
   "execution_count": 1,
   "metadata": {},
   "outputs": [],
   "source": [
    "import json \n",
    "import pandas as pd\n",
    "DIR1 = \"/home/zichao/catkin_ws/src/BARNSubmission/result/run1_vor/\"\n",
    "DIR2 = \"/home/zichao/catkin_ws/src/BARNSubmission/result/run2_vor/\"\n",
    "\n"
   ]
  },
  {
   "cell_type": "code",
   "execution_count": 2,
   "metadata": {},
   "outputs": [
    {
     "name": "stdout",
     "output_type": "stream",
     "text": [
      "[114, 'collided', 9.110999999999999]\n",
      "[136, 'timeout', 100.06200000000001]\n",
      "[158, 'timeout', 100.015]\n",
      "[163, 'collided', 7.6160000000000005]\n",
      "[181, 'collided', 9.97]\n",
      "[205, 'collided', 9.001000000000001]\n",
      "[207, 'collided', 8.732]\n",
      "[220, 'collided', 7.247]\n",
      "[237, 'collided', 12.190000000000001]\n",
      "[242, 'collided', 8.102]\n",
      "[258, 'collided', 8.323]\n",
      "[259, 'collided', 4.929]\n",
      "[276, 'collided', 7.098999999999999]\n",
      "[277, 'collided', 15.110000000000001]\n",
      "[287, 'collided', 10.199]\n",
      "[292, 'timeout', 100.103]\n",
      "[299, 'collided', 4.6000000000000005]\n",
      "[5, 'timeout', 100.04200000000003]\n",
      "[6, 'timeout', 100.05799999999999]\n",
      "[7, 'timeout', 100.00999999999999]\n",
      "[8, 'timeout', 100.05599999999993]\n",
      "[9, 'timeout', 100.03399999999999]\n",
      "[10, 'timeout', 100.04100000000005]\n",
      "[55, 'timeout', 100.047]\n",
      "[144, 'collided', 6.201]\n",
      "[163, 'collided', 6.313]\n",
      "[179, 'timeout', 100.007]\n",
      "[185, 'collided', 10.944999999999999]\n",
      "[205, 'timeout', 100.019]\n",
      "[207, 'timeout', 100.042]\n",
      "[214, 'collided', 14.403]\n",
      "[220, 'collided', 7.503]\n",
      "[237, 'timeout', 100.02699999999999]\n",
      "[241, 'collided', 4.8020000000000005]\n",
      "[242, 'collided', 13.263000000000002]\n",
      "[246, 'timeout', 100.095]\n",
      "[262, 'collided', 7.088]\n",
      "[267, 'timeout', 100.062]\n",
      "[268, 'collided', 3.923]\n",
      "[273, 'timeout', 100.08200000000001]\n",
      "[275, 'collided', 11.937999999999999]\n",
      "[277, 'collided', 5.929]\n",
      "[279, 'timeout', 100.10300000000001]\n",
      "[284, 'collided', 9.081]\n",
      "[285, 'timeout', 100.031]\n",
      "[286, 'collided', 7.851000000000001]\n",
      "[292, 'collided', 10.134]\n",
      "[299, 'collided', 6.164]\n"
     ]
    }
   ],
   "source": [
    "fail1 = []\n",
    "for i in range(300):\n",
    "    fn = DIR1 + str(i) + \".log\"\n",
    "    with open(fn, 'r') as f:\n",
    "        data = json.load(f)\n",
    "        if data[1] != 'succeeded':\n",
    "            print(data)\n",
    "            fail1.append(data)\n",
    "fail2 = []\n",
    "for i in range(300):\n",
    "    fn = DIR2 + str(i) + \".log\"\n",
    "    with open(fn, 'r') as f:\n",
    "        data = json.load(f)\n",
    "        if data[1] != 'succeeded':\n",
    "            print(data)\n",
    "            fail2.append(data)"
   ]
  },
  {
   "cell_type": "code",
   "execution_count": 3,
   "metadata": {},
   "outputs": [],
   "source": [
    "\n",
    "# fail1.extend(fail2)\n",
    "pd.DataFrame(columns=['world index','status','time taken'], data=fail1).to_csv(\"run1.csv\", index=False)\n",
    "pd.DataFrame(columns=['world index','status','time taken'], data=fail2).to_csv(\"run2.csv\", index=False)\n"
   ]
  },
  {
   "cell_type": "code",
   "execution_count": 4,
   "metadata": {},
   "outputs": [
    {
     "data": {
      "text/plain": [
       "[[114, 'collided', 9.110999999999999],\n",
       " [136, 'timeout', 100.06200000000001],\n",
       " [158, 'timeout', 100.015],\n",
       " [163, 'collided', 7.6160000000000005],\n",
       " [181, 'collided', 9.97],\n",
       " [205, 'collided', 9.001000000000001],\n",
       " [207, 'collided', 8.732],\n",
       " [220, 'collided', 7.247],\n",
       " [237, 'collided', 12.190000000000001],\n",
       " [242, 'collided', 8.102],\n",
       " [258, 'collided', 8.323],\n",
       " [259, 'collided', 4.929],\n",
       " [276, 'collided', 7.098999999999999],\n",
       " [277, 'collided', 15.110000000000001],\n",
       " [287, 'collided', 10.199],\n",
       " [292, 'timeout', 100.103],\n",
       " [299, 'collided', 4.6000000000000005]]"
      ]
     },
     "execution_count": 4,
     "metadata": {},
     "output_type": "execute_result"
    }
   ],
   "source": [
    "fail1"
   ]
  },
  {
   "cell_type": "code",
   "execution_count": 5,
   "metadata": {},
   "outputs": [
    {
     "data": {
      "text/plain": [
       "[[5, 'timeout', 100.04200000000003],\n",
       " [6, 'timeout', 100.05799999999999],\n",
       " [7, 'timeout', 100.00999999999999],\n",
       " [8, 'timeout', 100.05599999999993],\n",
       " [9, 'timeout', 100.03399999999999],\n",
       " [10, 'timeout', 100.04100000000005],\n",
       " [55, 'timeout', 100.047],\n",
       " [144, 'collided', 6.201],\n",
       " [163, 'collided', 6.313],\n",
       " [179, 'timeout', 100.007],\n",
       " [185, 'collided', 10.944999999999999],\n",
       " [205, 'timeout', 100.019],\n",
       " [207, 'timeout', 100.042],\n",
       " [214, 'collided', 14.403],\n",
       " [220, 'collided', 7.503],\n",
       " [237, 'timeout', 100.02699999999999],\n",
       " [241, 'collided', 4.8020000000000005],\n",
       " [242, 'collided', 13.263000000000002],\n",
       " [246, 'timeout', 100.095],\n",
       " [262, 'collided', 7.088],\n",
       " [267, 'timeout', 100.062],\n",
       " [268, 'collided', 3.923],\n",
       " [273, 'timeout', 100.08200000000001],\n",
       " [275, 'collided', 11.937999999999999],\n",
       " [277, 'collided', 5.929],\n",
       " [279, 'timeout', 100.10300000000001],\n",
       " [284, 'collided', 9.081],\n",
       " [285, 'timeout', 100.031],\n",
       " [286, 'collided', 7.851000000000001],\n",
       " [292, 'collided', 10.134],\n",
       " [299, 'collided', 6.164]]"
      ]
     },
     "execution_count": 5,
     "metadata": {},
     "output_type": "execute_result"
    }
   ],
   "source": [
    "fail2"
   ]
  },
  {
   "cell_type": "code",
   "execution_count": null,
   "metadata": {},
   "outputs": [],
   "source": []
  }
 ],
 "metadata": {
  "kernelspec": {
   "display_name": "base",
   "language": "python",
   "name": "python3"
  },
  "language_info": {
   "codemirror_mode": {
    "name": "ipython",
    "version": 3
   },
   "file_extension": ".py",
   "mimetype": "text/x-python",
   "name": "python",
   "nbconvert_exporter": "python",
   "pygments_lexer": "ipython3",
   "version": "3.9.13"
  },
  "orig_nbformat": 4,
  "vscode": {
   "interpreter": {
    "hash": "39117b2c9e2b04fd33f89c84f246365b29963a64fe23028d6729ebc074c24846"
   }
  }
 },
 "nbformat": 4,
 "nbformat_minor": 2
}
